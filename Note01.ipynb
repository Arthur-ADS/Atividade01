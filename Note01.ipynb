{
  "nbformat": 4,
  "nbformat_minor": 0,
  "metadata": {
    "colab": {
      "provenance": [],
      "authorship_tag": "ABX9TyOKOknc66rvqs1p95sqPufr",
      "include_colab_link": true
    },
    "kernelspec": {
      "name": "python3",
      "display_name": "Python 3"
    },
    "language_info": {
      "name": "python"
    }
  },
  "cells": [
    {
      "cell_type": "markdown",
      "metadata": {
        "id": "view-in-github",
        "colab_type": "text"
      },
      "source": [
        "<a href=\"https://colab.research.google.com/github/Arthur-ADS/Atividade01/blob/main/Note01.ipynb\" target=\"_parent\"><img src=\"https://colab.research.google.com/assets/colab-badge.svg\" alt=\"Open In Colab\"/></a>"
      ]
    },
    {
      "cell_type": "code",
      "execution_count": 1,
      "metadata": {
        "colab": {
          "base_uri": "https://localhost:8080/"
        },
        "id": "Ldcdr1FN1YaJ",
        "outputId": "364f017d-c6bd-438a-b819-17cc47ae3f00"
      },
      "outputs": [
        {
          "output_type": "stream",
          "name": "stdout",
          "text": [
            "Iniciando a aula prática de IA!\n"
          ]
        }
      ],
      "source": [
        "print(\"Iniciando a aula prática de IA!\");"
      ]
    },
    {
      "cell_type": "code",
      "source": [
        "import numpy as np\n",
        "\n",
        "precos = np.array([19.99,250.00,89.50,12.75])\n",
        "print(f\"Array de preços: {precos}\")\n",
        "\n",
        "precos_com_desconto = precos*0.9\n",
        "print(f\"Preços com desconto: {precos_com_desconto}\")\n",
        "\n",
        "media = np.mean(precos_com_desconto)\n",
        "print(f\"Preço médio dos produtos: R$ {media:.2f}\")"
      ],
      "metadata": {
        "colab": {
          "base_uri": "https://localhost:8080/"
        },
        "id": "ozz3lWNO20m-",
        "outputId": "b8a943b0-dcef-4133-9e04-91775adcf40b"
      },
      "execution_count": 5,
      "outputs": [
        {
          "output_type": "stream",
          "name": "stdout",
          "text": [
            "Array de preços: [ 19.99 250.    89.5   12.75]\n",
            "Preços com desconto: [ 17.991 225.     80.55   11.475]\n",
            "Preço médio dos produtos: R$ 83.75\n"
          ]
        }
      ]
    },
    {
      "cell_type": "code",
      "source": [
        "import pandas as pd\n",
        "\n",
        "dados = {\n",
        "    'Aluno': ['Carlos','Mariana','Lucas','Beatriz'],\n",
        "    'Nota_Final': [8.5,9.5,6.0,7.0],\n",
        "    'Frequencia_Pct' : [95,90,85,80]\n",
        "}\n",
        "\n",
        "df_alunos = pd.DataFrame(dados)\n",
        "\n",
        "print(\"Data Frame de alunos:\")\n",
        "print(df_alunos)\n",
        "\n",
        "print(\"Informações do Data Frame (.info())\")\n",
        "df_alunos.info()"
      ],
      "metadata": {
        "colab": {
          "base_uri": "https://localhost:8080/"
        },
        "id": "HhfpV8Ja8MUN",
        "outputId": "96689bf1-dbe6-4ef1-937d-f0b21e537836"
      },
      "execution_count": 11,
      "outputs": [
        {
          "output_type": "stream",
          "name": "stdout",
          "text": [
            "Data Frame de alunos:\n",
            "     Aluno  Nota_Final  Frequencia_Pct\n",
            "0   Carlos         8.5              95\n",
            "1  Mariana         9.5              90\n",
            "2    Lucas         6.0              85\n",
            "3  Beatriz         7.0              80\n",
            "Informações do Data Frame (.info())\n",
            "<class 'pandas.core.frame.DataFrame'>\n",
            "RangeIndex: 4 entries, 0 to 3\n",
            "Data columns (total 3 columns):\n",
            " #   Column          Non-Null Count  Dtype  \n",
            "---  ------          --------------  -----  \n",
            " 0   Aluno           4 non-null      object \n",
            " 1   Nota_Final      4 non-null      float64\n",
            " 2   Frequencia_Pct  4 non-null      int64  \n",
            "dtypes: float64(1), int64(1), object(1)\n",
            "memory usage: 228.0+ bytes\n"
          ]
        }
      ]
    }
  ]
}